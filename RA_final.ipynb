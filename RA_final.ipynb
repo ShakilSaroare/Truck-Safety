{
 "cells": [
  {
   "cell_type": "code",
   "execution_count": 1,
   "metadata": {},
   "outputs": [],
   "source": [
    "import pandas as pd\n",
    "import numpy as np\n",
    "import os\n",
    "import matplotlib.pyplot as plt\n",
    "import matplotlib.style as style"
   ]
  },
  {
   "cell_type": "code",
   "execution_count": 2,
   "metadata": {},
   "outputs": [],
   "source": [
    "dat=pd.read_csv(\"ind_merge_MCMIS.csv\",low_memory=False)"
   ]
  },
  {
   "cell_type": "code",
   "execution_count": 3,
   "metadata": {},
   "outputs": [
    {
     "data": {
      "text/plain": [
       "Non_Agricultural    230471\n",
       "Agricultural        160944\n",
       "Name: ag1, dtype: int64"
      ]
     },
     "execution_count": 3,
     "metadata": {},
     "output_type": "execute_result"
    }
   ],
   "source": [
    "dat['ag']=np.where(dat['CARGO_CLASSIFICATION_CODE']==\"W\",0,dat['ag'])\n",
    "dat['ag1']='Non_Agricultural'\n",
    "dat['ag1']= np.where(dat['ag']==1,'Agricultural',dat['ag1'])\n",
    "dat['ag1'].value_counts(dropna=False)"
   ]
  },
  {
   "cell_type": "code",
   "execution_count": 4,
   "metadata": {},
   "outputs": [
    {
     "data": {
      "text/html": [
       "<div>\n",
       "<style scoped>\n",
       "    .dataframe tbody tr th:only-of-type {\n",
       "        vertical-align: middle;\n",
       "    }\n",
       "\n",
       "    .dataframe tbody tr th {\n",
       "        vertical-align: top;\n",
       "    }\n",
       "\n",
       "    .dataframe thead th {\n",
       "        text-align: right;\n",
       "    }\n",
       "</style>\n",
       "<table border=\"1\" class=\"dataframe\">\n",
       "  <thead>\n",
       "    <tr style=\"text-align: right;\">\n",
       "      <th>ag1</th>\n",
       "      <th>Agricultural</th>\n",
       "      <th>Non_Agricultural</th>\n",
       "    </tr>\n",
       "    <tr>\n",
       "      <th>vehusedescr</th>\n",
       "      <th></th>\n",
       "      <th></th>\n",
       "    </tr>\n",
       "  </thead>\n",
       "  <tbody>\n",
       "    <tr>\n",
       "      <th>Ambulance</th>\n",
       "      <td>58</td>\n",
       "      <td>97</td>\n",
       "    </tr>\n",
       "    <tr>\n",
       "      <th>Commercial (Buses, Taxis, Common and Contract Carrier)</th>\n",
       "      <td>113796</td>\n",
       "      <td>150722</td>\n",
       "    </tr>\n",
       "    <tr>\n",
       "      <th>Fire</th>\n",
       "      <td>21</td>\n",
       "      <td>60</td>\n",
       "    </tr>\n",
       "    <tr>\n",
       "      <th>Highway Department</th>\n",
       "      <td>225</td>\n",
       "      <td>259</td>\n",
       "    </tr>\n",
       "    <tr>\n",
       "      <th>Military</th>\n",
       "      <td>23</td>\n",
       "      <td>28</td>\n",
       "    </tr>\n",
       "    <tr>\n",
       "      <th>Other</th>\n",
       "      <td>184</td>\n",
       "      <td>430</td>\n",
       "    </tr>\n",
       "    <tr>\n",
       "      <th>Other Government (Postal, etc.)</th>\n",
       "      <td>99</td>\n",
       "      <td>249</td>\n",
       "    </tr>\n",
       "    <tr>\n",
       "      <th>Personal (Farm, Company)</th>\n",
       "      <td>44995</td>\n",
       "      <td>74000</td>\n",
       "    </tr>\n",
       "    <tr>\n",
       "      <th>Police</th>\n",
       "      <td>195</td>\n",
       "      <td>311</td>\n",
       "    </tr>\n",
       "    <tr>\n",
       "      <th>Public Utilities (Gas, Electric, etc.)</th>\n",
       "      <td>90</td>\n",
       "      <td>107</td>\n",
       "    </tr>\n",
       "    <tr>\n",
       "      <th>Rental, not leased</th>\n",
       "      <td>407</td>\n",
       "      <td>629</td>\n",
       "    </tr>\n",
       "    <tr>\n",
       "      <th>School</th>\n",
       "      <td>58</td>\n",
       "      <td>136</td>\n",
       "    </tr>\n",
       "  </tbody>\n",
       "</table>\n",
       "</div>"
      ],
      "text/plain": [
       "ag1                                                 Agricultural  \\\n",
       "vehusedescr                                                        \n",
       "Ambulance                                                     58   \n",
       "Commercial (Buses, Taxis, Common and Contract C...        113796   \n",
       "Fire                                                          21   \n",
       "Highway Department                                           225   \n",
       "Military                                                      23   \n",
       "Other                                                        184   \n",
       "Other Government (Postal, etc.)                               99   \n",
       "Personal (Farm, Company)                                   44995   \n",
       "Police                                                       195   \n",
       "Public Utilities (Gas, Electric, etc.)                        90   \n",
       "Rental, not leased                                           407   \n",
       "School                                                        58   \n",
       "\n",
       "ag1                                                 Non_Agricultural  \n",
       "vehusedescr                                                           \n",
       "Ambulance                                                         97  \n",
       "Commercial (Buses, Taxis, Common and Contract C...            150722  \n",
       "Fire                                                              60  \n",
       "Highway Department                                               259  \n",
       "Military                                                          28  \n",
       "Other                                                            430  \n",
       "Other Government (Postal, etc.)                                  249  \n",
       "Personal (Farm, Company)                                       74000  \n",
       "Police                                                           311  \n",
       "Public Utilities (Gas, Electric, etc.)                           107  \n",
       "Rental, not leased                                               629  \n",
       "School                                                           136  "
      ]
     },
     "execution_count": 4,
     "metadata": {},
     "output_type": "execute_result"
    }
   ],
   "source": [
    "pd.crosstab(dat[\"vehusedescr\"],dat[\"ag1\"])"
   ]
  },
  {
   "cell_type": "code",
   "execution_count": 5,
   "metadata": {},
   "outputs": [
    {
     "data": {
      "text/plain": [
       "Non_Agricultural    346420\n",
       "Agricultural         44995\n",
       "Name: ag1, dtype: int64"
      ]
     },
     "execution_count": 5,
     "metadata": {},
     "output_type": "execute_result"
    }
   ],
   "source": [
    "dat['ag1']= np.where(dat['vehusedescr']!=\"Personal (Farm, Company)\",'Non_Agricultural',dat['ag1'])\n",
    "stat=dat['ag1'].value_counts(dropna=False)\n",
    "stat"
   ]
  },
  {
   "cell_type": "code",
   "execution_count": 6,
   "metadata": {},
   "outputs": [
    {
     "data": {
      "text/plain": [
       "A    361822\n",
       "C     28325\n",
       "B      1241\n",
       "Name: CARRIER_OPERATION, dtype: int64"
      ]
     },
     "execution_count": 6,
     "metadata": {},
     "output_type": "execute_result"
    }
   ],
   "source": [
    "dat['CARRIER_OPERATION'].value_counts()"
   ]
  },
  {
   "cell_type": "code",
   "execution_count": 7,
   "metadata": {},
   "outputs": [
    {
     "data": {
      "text/plain": [
       "Multi_purpose    349117\n",
       "Log               28591\n",
       "Grain             12323\n",
       "Livestock          1384\n",
       "Name: sol_cargos, dtype: int64"
      ]
     },
     "execution_count": 7,
     "metadata": {},
     "output_type": "execute_result"
    }
   ],
   "source": [
    "dat['sol_cargos']=\"Multi_purpose\"\n",
    "#dat['sol_cargos']=np.where(dat['CARGO_CLASSIFICATION_CODE']==\"AA\", \"Agricultural Equipment\",dat['sol_cargos'])\n",
    "dat['sol_cargos']=np.where(dat['CARGO_CLASSIFICATION_CODE']==\"P\", \"Grain\",dat['sol_cargos'])\n",
    "dat['sol_cargos']=np.where(dat['CARGO_CLASSIFICATION_CODE']==\"O\", \"Livestock\",dat['sol_cargos'])\n",
    "#dat['sol_cargos']=np.where(dat['CARGO_CLASSIFICATION_CODE']==\"J\", \"Fresh_product\",dat['sol_cargos'])\n",
    "#dat['sol_cargos']=np.where(dat['CARGO_CLASSIFICATION_CODE']==\"R\", \"Meat\",dat['sol_cargos'])\n",
    "dat['sol_cargos']=np.where(dat['CARGO_CLASSIFICATION_CODE']==\"F\",\"Log\",dat['sol_cargos'])\n",
    "#dat['sol_cargos']=np.where(dat['vehusedescr']!=\"Personal (Farm, Company)\",\"Non_Agricultral\",dat['sol_cargos'])\n",
    "dat['sol_cargos'].value_counts()"
   ]
  },
  {
   "cell_type": "code",
   "execution_count": 8,
   "metadata": {},
   "outputs": [
    {
     "data": {
      "text/html": [
       "<div>\n",
       "<style scoped>\n",
       "    .dataframe tbody tr th:only-of-type {\n",
       "        vertical-align: middle;\n",
       "    }\n",
       "\n",
       "    .dataframe tbody tr th {\n",
       "        vertical-align: top;\n",
       "    }\n",
       "\n",
       "    .dataframe thead th {\n",
       "        text-align: right;\n",
       "    }\n",
       "</style>\n",
       "<table border=\"1\" class=\"dataframe\">\n",
       "  <thead>\n",
       "    <tr style=\"text-align: right;\">\n",
       "      <th>ag1</th>\n",
       "      <th>Agricultural</th>\n",
       "      <th>Non_Agricultural</th>\n",
       "    </tr>\n",
       "    <tr>\n",
       "      <th>sol_cargos</th>\n",
       "      <th></th>\n",
       "      <th></th>\n",
       "    </tr>\n",
       "  </thead>\n",
       "  <tbody>\n",
       "    <tr>\n",
       "      <th>Grain</th>\n",
       "      <td>3727</td>\n",
       "      <td>8596</td>\n",
       "    </tr>\n",
       "    <tr>\n",
       "      <th>Livestock</th>\n",
       "      <td>440</td>\n",
       "      <td>944</td>\n",
       "    </tr>\n",
       "    <tr>\n",
       "      <th>Log</th>\n",
       "      <td>8932</td>\n",
       "      <td>19659</td>\n",
       "    </tr>\n",
       "    <tr>\n",
       "      <th>Multi_purpose</th>\n",
       "      <td>31896</td>\n",
       "      <td>317221</td>\n",
       "    </tr>\n",
       "  </tbody>\n",
       "</table>\n",
       "</div>"
      ],
      "text/plain": [
       "ag1            Agricultural  Non_Agricultural\n",
       "sol_cargos                                   \n",
       "Grain                  3727              8596\n",
       "Livestock               440               944\n",
       "Log                    8932             19659\n",
       "Multi_purpose         31896            317221"
      ]
     },
     "execution_count": 8,
     "metadata": {},
     "output_type": "execute_result"
    }
   ],
   "source": [
    "pd.crosstab(dat[\"sol_cargos\"],dat[\"ag1\"])"
   ]
  },
  {
   "cell_type": "code",
   "execution_count": 9,
   "metadata": {},
   "outputs": [
    {
     "data": {
      "text/html": [
       "<div>\n",
       "<style scoped>\n",
       "    .dataframe tbody tr th:only-of-type {\n",
       "        vertical-align: middle;\n",
       "    }\n",
       "\n",
       "    .dataframe tbody tr th {\n",
       "        vertical-align: top;\n",
       "    }\n",
       "\n",
       "    .dataframe thead th {\n",
       "        text-align: right;\n",
       "    }\n",
       "</style>\n",
       "<table border=\"1\" class=\"dataframe\">\n",
       "  <thead>\n",
       "    <tr style=\"text-align: right;\">\n",
       "      <th></th>\n",
       "      <th>Carriers</th>\n",
       "      <th>Percentage</th>\n",
       "    </tr>\n",
       "    <tr>\n",
       "      <th>sol_cargos</th>\n",
       "      <th></th>\n",
       "      <th></th>\n",
       "    </tr>\n",
       "  </thead>\n",
       "  <tbody>\n",
       "    <tr>\n",
       "      <th>Grain</th>\n",
       "      <td>12323</td>\n",
       "      <td>3.148321</td>\n",
       "    </tr>\n",
       "    <tr>\n",
       "      <th>Livestock</th>\n",
       "      <td>1384</td>\n",
       "      <td>0.353589</td>\n",
       "    </tr>\n",
       "    <tr>\n",
       "      <th>Log</th>\n",
       "      <td>28591</td>\n",
       "      <td>7.304523</td>\n",
       "    </tr>\n",
       "    <tr>\n",
       "      <th>Multi_purpose</th>\n",
       "      <td>349117</td>\n",
       "      <td>89.193567</td>\n",
       "    </tr>\n",
       "  </tbody>\n",
       "</table>\n",
       "</div>"
      ],
      "text/plain": [
       "               Carriers  Percentage\n",
       "sol_cargos                         \n",
       "Grain             12323    3.148321\n",
       "Livestock          1384    0.353589\n",
       "Log               28591    7.304523\n",
       "Multi_purpose    349117   89.193567"
      ]
     },
     "execution_count": 9,
     "metadata": {},
     "output_type": "execute_result"
    }
   ],
   "source": [
    "cargo_types=dat.groupby(by=\"sol_cargos\").agg({'DOT_NUMBER':\"count\"})\n",
    "cargo_types.columns=[\"Carriers\"]\n",
    "cargo_types[\"Percentage\"]=(cargo_types/dat.shape[0])*100\n",
    "cargo_types"
   ]
  },
  {
   "cell_type": "code",
   "execution_count": 10,
   "metadata": {},
   "outputs": [],
   "source": [
    "dat[\"Harvest_Season\"]=\"Non_Harvest\"\n",
    "dat[\"Harvest_Season\"]=np.where(dat[\"collision_month\"]==\"SEP\",\"Harvest\",dat[\"Harvest_Season\"])\n",
    "dat[\"Harvest_Season\"]=np.where(dat[\"collision_month\"]==\"OCT\",\"Harvest\",dat[\"Harvest_Season\"])\n",
    "dat[\"Harvest_Season\"]=np.where(dat[\"collision_month\"]==\"NOV\",\"Harvest\",dat[\"Harvest_Season\"])\n",
    "dat[\"Harvest_Season\"]=np.where(dat[\"collision_month\"]==\"DEC\",\"Harvest\",dat[\"Harvest_Season\"])"
   ]
  },
  {
   "cell_type": "code",
   "execution_count": 11,
   "metadata": {},
   "outputs": [
    {
     "data": {
      "text/plain": [
       "Non_Harvest    256904\n",
       "Harvest        134511\n",
       "Name: Harvest_Season, dtype: int64"
      ]
     },
     "execution_count": 11,
     "metadata": {},
     "output_type": "execute_result"
    }
   ],
   "source": [
    "dat[\"Harvest_Season\"].value_counts(dropna=False)"
   ]
  },
  {
   "cell_type": "code",
   "execution_count": 12,
   "metadata": {},
   "outputs": [
    {
     "data": {
      "text/html": [
       "<div>\n",
       "<style scoped>\n",
       "    .dataframe tbody tr th:only-of-type {\n",
       "        vertical-align: middle;\n",
       "    }\n",
       "\n",
       "    .dataframe tbody tr th {\n",
       "        vertical-align: top;\n",
       "    }\n",
       "\n",
       "    .dataframe thead th {\n",
       "        text-align: right;\n",
       "    }\n",
       "</style>\n",
       "<table border=\"1\" class=\"dataframe\">\n",
       "  <thead>\n",
       "    <tr style=\"text-align: right;\">\n",
       "      <th>ag1</th>\n",
       "      <th>Agricultural</th>\n",
       "      <th>Non_Agricultural</th>\n",
       "    </tr>\n",
       "  </thead>\n",
       "  <tbody>\n",
       "    <tr>\n",
       "      <th>deadnmb</th>\n",
       "      <td>2866.0</td>\n",
       "      <td>11403.0</td>\n",
       "    </tr>\n",
       "    <tr>\n",
       "      <th>injurednmb</th>\n",
       "      <td>32765.0</td>\n",
       "      <td>150515.0</td>\n",
       "    </tr>\n",
       "  </tbody>\n",
       "</table>\n",
       "</div>"
      ],
      "text/plain": [
       "ag1         Agricultural  Non_Agricultural\n",
       "deadnmb           2866.0           11403.0\n",
       "injurednmb       32765.0          150515.0"
      ]
     },
     "execution_count": 12,
     "metadata": {},
     "output_type": "execute_result"
    }
   ],
   "source": [
    "dat_stat=dat.groupby(by=\"ag1\",).agg({\"deadnmb\":sum,\"injurednmb\":sum})\n",
    "dat_stats=dat_stat.T\n",
    "dat_stats"
   ]
  },
  {
   "cell_type": "code",
   "execution_count": 13,
   "metadata": {},
   "outputs": [
    {
     "name": "stdout",
     "output_type": "stream",
     "text": [
      "Fatalities per collission for agriclutural carriers= 0.06369596621846872\n",
      "Fatalities per collission for non-agriclutural carriers= 0.03291669072224467\n",
      "Injuries per collission for agriclutural carriers= 0.7281920213357039\n",
      "Injuries per collission for non-agriclutural carriers= 0.4344870388545696\n"
     ]
    }
   ],
   "source": [
    "print(\"Fatalities per collission for agriclutural carriers=\",dat_stats.Agricultural[0]/stat[1])\n",
    "print(\"Fatalities per collission for non-agriclutural carriers=\",dat_stats.Non_Agricultural[0]/stat[0])\n",
    "print(\"Injuries per collission for agriclutural carriers=\",dat_stats.Agricultural[1]/stat[1])\n",
    "print(\"Injuries per collission for non-agriclutural carriers=\",dat_stats.Non_Agricultural[1]/stat[0])"
   ]
  },
  {
   "cell_type": "code",
   "execution_count": 14,
   "metadata": {},
   "outputs": [],
   "source": [
    "dat[\"weather\"]=\"Adverse\"\n",
    "dat[\"weather\"]=np.where(dat[\"weatherdescr\"]==\"Clear\",\"Normal\",dat[\"weather\"])"
   ]
  },
  {
   "cell_type": "code",
   "execution_count": 15,
   "metadata": {},
   "outputs": [
    {
     "data": {
      "text/plain": [
       "Normal     237908\n",
       "Adverse    153507\n",
       "Name: weather, dtype: int64"
      ]
     },
     "execution_count": 15,
     "metadata": {},
     "output_type": "execute_result"
    }
   ],
   "source": [
    "dat[\"weather\"].value_counts()"
   ]
  },
  {
   "cell_type": "code",
   "execution_count": 16,
   "metadata": {},
   "outputs": [],
   "source": [
    "dat[\"fatality\"]=np.where(dat[\"deadnmb\"]>0,\"Fatal\",\"No_fatality\")\n",
    "dat[\"injury\"]=np.where(dat[\"injurednmb\"]>0,\"Injuries\",\"No_injuries\")"
   ]
  },
  {
   "cell_type": "code",
   "execution_count": 17,
   "metadata": {},
   "outputs": [
    {
     "data": {
      "text/plain": [
       "No_fatality    382341\n",
       "Fatal            9074\n",
       "Name: fatality, dtype: int64"
      ]
     },
     "execution_count": 17,
     "metadata": {},
     "output_type": "execute_result"
    }
   ],
   "source": [
    "dat[\"fatality\"].value_counts(dropna=False)"
   ]
  },
  {
   "cell_type": "code",
   "execution_count": 18,
   "metadata": {},
   "outputs": [
    {
     "data": {
      "text/plain": [
       "No_injuries    315347\n",
       "Injuries        76068\n",
       "Name: injury, dtype: int64"
      ]
     },
     "execution_count": 18,
     "metadata": {},
     "output_type": "execute_result"
    }
   ],
   "source": [
    "dat[\"injury\"].value_counts(dropna=False)"
   ]
  },
  {
   "cell_type": "code",
   "execution_count": 19,
   "metadata": {},
   "outputs": [
    {
     "data": {
      "text/plain": [
       "Minor     313103\n",
       "Injury     69238\n",
       "Fatal       9074\n",
       "Name: severity, dtype: int64"
      ]
     },
     "execution_count": 19,
     "metadata": {},
     "output_type": "execute_result"
    }
   ],
   "source": [
    "dat[\"severity\"]=np.where(dat[\"fatality\"]==\"No_fatality\",np.where(dat[\"injury\"]==\"Injuries\",\"Injury\",\"Minor\"),\"Fatal\")\n",
    "dat[\"severity\"].value_counts(dropna=False)"
   ]
  },
  {
   "cell_type": "code",
   "execution_count": 20,
   "metadata": {},
   "outputs": [
    {
     "data": {
      "text/html": [
       "<div>\n",
       "<style scoped>\n",
       "    .dataframe tbody tr th:only-of-type {\n",
       "        vertical-align: middle;\n",
       "    }\n",
       "\n",
       "    .dataframe tbody tr th {\n",
       "        vertical-align: top;\n",
       "    }\n",
       "\n",
       "    .dataframe thead th {\n",
       "        text-align: right;\n",
       "    }\n",
       "</style>\n",
       "<table border=\"1\" class=\"dataframe\">\n",
       "  <thead>\n",
       "    <tr style=\"text-align: right;\">\n",
       "      <th>fatality</th>\n",
       "      <th>Fatal</th>\n",
       "      <th>No_fatality</th>\n",
       "    </tr>\n",
       "    <tr>\n",
       "      <th>ag1</th>\n",
       "      <th></th>\n",
       "      <th></th>\n",
       "    </tr>\n",
       "  </thead>\n",
       "  <tbody>\n",
       "    <tr>\n",
       "      <th>Agricultural</th>\n",
       "      <td>1661</td>\n",
       "      <td>43334</td>\n",
       "    </tr>\n",
       "    <tr>\n",
       "      <th>Non_Agricultural</th>\n",
       "      <td>7413</td>\n",
       "      <td>339007</td>\n",
       "    </tr>\n",
       "  </tbody>\n",
       "</table>\n",
       "</div>"
      ],
      "text/plain": [
       "fatality          Fatal  No_fatality\n",
       "ag1                                 \n",
       "Agricultural       1661        43334\n",
       "Non_Agricultural   7413       339007"
      ]
     },
     "execution_count": 20,
     "metadata": {},
     "output_type": "execute_result"
    }
   ],
   "source": [
    "sev_stat=pd.crosstab(dat[\"ag1\"],dat[\"fatality\"])\n",
    "sev_stat"
   ]
  },
  {
   "cell_type": "code",
   "execution_count": 21,
   "metadata": {},
   "outputs": [
    {
     "data": {
      "text/html": [
       "<div>\n",
       "<style scoped>\n",
       "    .dataframe tbody tr th:only-of-type {\n",
       "        vertical-align: middle;\n",
       "    }\n",
       "\n",
       "    .dataframe tbody tr th {\n",
       "        vertical-align: top;\n",
       "    }\n",
       "\n",
       "    .dataframe thead th {\n",
       "        text-align: right;\n",
       "    }\n",
       "</style>\n",
       "<table border=\"1\" class=\"dataframe\">\n",
       "  <thead>\n",
       "    <tr style=\"text-align: right;\">\n",
       "      <th>injury</th>\n",
       "      <th>Injuries</th>\n",
       "      <th>No_injuries</th>\n",
       "    </tr>\n",
       "    <tr>\n",
       "      <th>ag1</th>\n",
       "      <th></th>\n",
       "      <th></th>\n",
       "    </tr>\n",
       "  </thead>\n",
       "  <tbody>\n",
       "    <tr>\n",
       "      <th>Agricultural</th>\n",
       "      <td>12547</td>\n",
       "      <td>32448</td>\n",
       "    </tr>\n",
       "    <tr>\n",
       "      <th>Non_Agricultural</th>\n",
       "      <td>63521</td>\n",
       "      <td>282899</td>\n",
       "    </tr>\n",
       "  </tbody>\n",
       "</table>\n",
       "</div>"
      ],
      "text/plain": [
       "injury            Injuries  No_injuries\n",
       "ag1                                    \n",
       "Agricultural         12547        32448\n",
       "Non_Agricultural     63521       282899"
      ]
     },
     "execution_count": 21,
     "metadata": {},
     "output_type": "execute_result"
    }
   ],
   "source": [
    "sev_stat1=pd.crosstab(dat[\"ag1\"],dat[\"injury\"])\n",
    "sev_stat1"
   ]
  },
  {
   "cell_type": "code",
   "execution_count": 22,
   "metadata": {},
   "outputs": [
    {
     "name": "stdout",
     "output_type": "stream",
     "text": [
      "Fatality rate per collission for agriclutural carriers= 0.03691521280142238\n",
      "Fatality rate per collission for non-agriclutural carriers= 0.021398879972287975\n",
      "Injury rate per collission for agriclutural carriers= 0.278853205911768\n",
      "Injury rate per collission for non-agriclutural carriers= 0.18336412447318284\n"
     ]
    }
   ],
   "source": [
    "print(\"Fatality rate per collission for agriclutural carriers=\",sev_stat.Fatal[0]/stat[1])\n",
    "print(\"Fatality rate per collission for non-agriclutural carriers=\",sev_stat.Fatal[1]/stat[0])\n",
    "print(\"Injury rate per collission for agriclutural carriers=\",sev_stat1.Injuries[0]/stat[1])\n",
    "print(\"Injury rate per collission for non-agriclutural carriers=\",sev_stat1.Injuries[1]/stat[0])"
   ]
  },
  {
   "cell_type": "code",
   "execution_count": 23,
   "metadata": {},
   "outputs": [],
   "source": [
    "dat[\"intstat\"]=np.where(dat[\"CARRIER_OPERATION\"]==\"A\",\"Interstate\",\"Intrastate\")"
   ]
  },
  {
   "cell_type": "code",
   "execution_count": 24,
   "metadata": {},
   "outputs": [],
   "source": [
    "dat.to_csv(\"truck_safety_final.csv\")"
   ]
  },
  {
   "cell_type": "code",
   "execution_count": 2,
   "metadata": {},
   "outputs": [
    {
     "name": "stderr",
     "output_type": "stream",
     "text": [
      "C:\\Users\\Shakil\\Anaconda3\\lib\\site-packages\\IPython\\core\\interactiveshell.py:3049: DtypeWarning: Columns (17,20,21,22,23,24,25,26,29,48,49,64,67,69,71,81,85,94,96,98,104,106,123,124,126) have mixed types. Specify dtype option on import or set low_memory=False.\n",
      "  interactivity=interactivity, compiler=compiler, result=result)\n"
     ]
    }
   ],
   "source": [
    "data=pd.read_csv(\"truck_safety_final.csv\")"
   ]
  },
  {
   "cell_type": "code",
   "execution_count": 3,
   "metadata": {},
   "outputs": [],
   "source": [
    "dat_ag=data[data[\"ag1\"]=='Agricultural']\n",
    "dat_nag=data[data[\"ag1\"]=='Non_Agricultural']"
   ]
  },
  {
   "cell_type": "code",
   "execution_count": 4,
   "metadata": {},
   "outputs": [],
   "source": [
    "inc_ag=pd.crosstab(dat_ag[\"collision_month\"],dat_ag[\"collision_year\"])"
   ]
  },
  {
   "cell_type": "code",
   "execution_count": 5,
   "metadata": {},
   "outputs": [],
   "source": [
    "year=list(range(2008,2018))\n",
    "mon=[\"SEP\",\"OCT\",\"NOV\",\"DEC\"]"
   ]
  },
  {
   "cell_type": "code",
   "execution_count": 6,
   "metadata": {},
   "outputs": [],
   "source": [
    "inc_ag_2008=sum(inc_ag[2008])/12\n",
    "inc_ag_2009=sum(inc_ag[2009])/12\n",
    "inc_ag_2010=sum(inc_ag[2010])/12\n",
    "inc_ag_2011=sum(inc_ag[2011])/12\n",
    "inc_ag_2012=sum(inc_ag[2012])/12\n",
    "inc_ag_2013=sum(inc_ag[2013])/12\n",
    "inc_ag_2014=sum(inc_ag[2014])/12\n",
    "inc_ag_2015=sum(inc_ag[2015])/12\n",
    "inc_ag_2016=sum(inc_ag[2016])/12\n",
    "inc_ag_2017=sum(inc_ag[2017])/12"
   ]
  },
  {
   "cell_type": "code",
   "execution_count": 7,
   "metadata": {},
   "outputs": [],
   "source": [
    "minc_ag_2008=[]\n",
    "for i in range(len(mon)):\n",
    "    minc_ag_2008.append(inc_ag[2008][mon[i]])\n",
    "\n",
    "minc_ag_2009=[]\n",
    "for i in range(len(mon)):\n",
    "    minc_ag_2009.append(inc_ag[2009][mon[i]])\n",
    "\n",
    "minc_ag_2010=[]\n",
    "for i in range(len(mon)):\n",
    "    minc_ag_2010.append(inc_ag[2010][mon[i]])\n",
    "\n",
    "minc_ag_2011=[]\n",
    "for i in range(len(mon)):\n",
    "    minc_ag_2011.append(inc_ag[2011][mon[i]])\n",
    "\n",
    "minc_ag_2012=[]\n",
    "for i in range(len(mon)):\n",
    "    minc_ag_2012.append(inc_ag[2012][mon[i]])\n",
    "\n",
    "minc_ag_2013=[]\n",
    "for i in range(len(mon)):\n",
    "    minc_ag_2013.append(inc_ag[2013][mon[i]])\n",
    "\n",
    "minc_ag_2014=[]\n",
    "for i in range(len(mon)):\n",
    "    minc_ag_2014.append(inc_ag[2014][mon[i]])\n",
    "\n",
    "minc_ag_2015=[]\n",
    "for i in range(len(mon)):\n",
    "    minc_ag_2015.append(inc_ag[2015][mon[i]])\n",
    "\n",
    "minc_ag_2016=[]\n",
    "for i in range(len(mon)):\n",
    "    minc_ag_2016.append(inc_ag[2016][mon[i]])\n",
    "\n",
    "minc_ag_2017=[]\n",
    "for i in range(len(mon)):\n",
    "    minc_ag_2017.append(inc_ag[2017][mon[i]])"
   ]
  },
  {
   "cell_type": "code",
   "execution_count": 8,
   "metadata": {},
   "outputs": [],
   "source": [
    "mon_inc_ag=[sum(minc_ag_2008)/4,sum(minc_ag_2009)/4,sum(minc_ag_2010)/4,sum(minc_ag_2011)/4,\n",
    "            sum(minc_ag_2012)/4,sum(minc_ag_2013)/4,sum(minc_ag_2014)/4,sum(minc_ag_2015)/4,sum(minc_ag_2016)/4,sum(minc_ag_2017)/4]\n",
    "inc_ag=[inc_ag_2008,inc_ag_2009,inc_ag_2010,inc_ag_2011,inc_ag_2012,inc_ag_2013,inc_ag_2014,inc_ag_2015,inc_ag_2016,inc_ag_2017]"
   ]
  },
  {
   "cell_type": "code",
   "execution_count": 10,
   "metadata": {},
   "outputs": [],
   "source": [
    "miles=pd.read_csv(\"vmc.csv\",sep=\",\")"
   ]
  },
  {
   "cell_type": "code",
   "execution_count": 11,
   "metadata": {},
   "outputs": [],
   "source": [
    "harv_rate_ag=[]\n",
    "for i in range(len(mon_inc_ag)):\n",
    "    harv_rate_ag.append(mon_inc_ag[i]/miles.vmc[i])"
   ]
  },
  {
   "cell_type": "code",
   "execution_count": 12,
   "metadata": {},
   "outputs": [],
   "source": [
    "rate_ag=[]\n",
    "for i in range(len(inc_ag)):\n",
    "    rate_ag.append(inc_ag[i]/miles.vmc[i])"
   ]
  },
  {
   "cell_type": "code",
   "execution_count": 13,
   "metadata": {},
   "outputs": [
    {
     "data": {
      "image/png": "[encoded data removed]",
      "text/plain": [
       "<Figure size 432x288 with 1 Axes>"
      ]
     },
     "metadata": {
      "needs_background": "light"
     },
     "output_type": "display_data"
    }
   ],
   "source": [
    "plt.plot(year,rate_ag,label='Yearly average rate')\n",
    "plt.plot(year,harv_rate_ag,label='Harvesting season average rate')\n",
    "plt.ylabel(\"Incident rates\")\n",
    "plt.xlabel(\"Year\")\n",
    "plt.legend()\n",
    "plt.title(\"Incidents for agricultural carriers in Indiana state\")\n",
    "plt.show()"
   ]
  },
  {
   "cell_type": "code",
   "execution_count": null,
   "metadata": {},
   "outputs": [],
   "source": []
  }
 ],
 "metadata": {
  "kernelspec": {
   "display_name": "Python 3",
   "language": "python",
   "name": "python3"
  },
  "language_info": {
   "codemirror_mode": {
    "name": "ipython",
    "version": 3
   },
   "file_extension": ".py",
   "mimetype": "text/x-python",
   "name": "python",
   "nbconvert_exporter": "python",
   "pygments_lexer": "ipython3",
   "version": "3.7.3"
  }
 },
 "nbformat": 4,
 "nbformat_minor": 2
}
